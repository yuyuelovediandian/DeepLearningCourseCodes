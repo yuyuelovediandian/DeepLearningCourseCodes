{
 "cells": [
  {
   "cell_type": "markdown",
   "metadata": {},
   "source": [
    "# 卷积神经示例: TF-SLIM高级API实现\n",
    "### 推荐尽量用TF-SLIM实现复杂结构"
   ]
  },
  {
   "cell_type": "code",
   "execution_count": 1,
   "metadata": {},
   "outputs": [
    {
     "name": "stdout",
     "output_type": "stream",
     "text": [
      "当前TensorFlow版本为 [1.3.0]\n",
      "所有包载入完毕\n"
     ]
    }
   ],
   "source": [
    "import os\n",
    "import numpy as np\n",
    "from scipy import ndimage\n",
    "import matplotlib.pyplot as plt\n",
    "import tensorflow as tf\n",
    "import tensorflow.contrib.slim as slim\n",
    "from tensorflow.examples.tutorials.mnist import input_data\n",
    "%matplotlib inline  \n",
    "print (\"当前TensorFlow版本为 [%s]\" % (tf.__version__))\n",
    "print (\"所有包载入完毕\")"
   ]
  },
  {
   "cell_type": "markdown",
   "metadata": {},
   "source": [
    "## 载入 MNIST"
   ]
  },
  {
   "cell_type": "code",
   "execution_count": 2,
   "metadata": {},
   "outputs": [
    {
     "name": "stdout",
     "output_type": "stream",
     "text": [
      "Extracting data/train-images-idx3-ubyte.gz\n",
      "Extracting data/train-labels-idx1-ubyte.gz\n",
      "Extracting data/t10k-images-idx3-ubyte.gz\n",
      "Extracting data/t10k-labels-idx1-ubyte.gz\n",
      "MNIST ready\n"
     ]
    }
   ],
   "source": [
    "mnist = input_data.read_data_sets('data/', one_hot=True)\n",
    "trainimg   = mnist.train.images\n",
    "trainlabel = mnist.train.labels\n",
    "valimg     = mnist.validation.images\n",
    "vallabel   = mnist.validation.labels\n",
    "testimg    = mnist.test.images\n",
    "testlabel  = mnist.test.labels\n",
    "print (\"MNIST ready\")"
   ]
  },
  {
   "cell_type": "markdown",
   "metadata": {},
   "source": [
    "## 定义模型"
   ]
  },
  {
   "cell_type": "code",
   "execution_count": 3,
   "metadata": {},
   "outputs": [
    {
     "name": "stdout",
     "output_type": "stream",
     "text": [
      "NETWORK READY\n"
     ]
    }
   ],
   "source": [
    "n_input = 784\n",
    "n_classes = 10\n",
    "x = tf.placeholder(\"float\", [None, n_input])\n",
    "y = tf.placeholder(\"float\", [None, n_classes])\n",
    "is_training = tf.placeholder(tf.bool)\n",
    "\n",
    "def lrelu(x, leak=0.2, name='lrelu'):\n",
    "    with tf.variable_scope(name):\n",
    "        f1 = 0.5 * (1 + leak)\n",
    "        f2 = 0.5 * (1 - leak)\n",
    "        return f1 * x + f2 * abs(x)\n",
    "\n",
    "def CNN(inputs, is_training=True):\n",
    "    x   = tf.reshape(inputs, [-1, 28, 28, 1])\n",
    "    batch_norm_params = {'is_training': is_training, 'decay': 0.9\n",
    "                         , 'updates_collections': None}\n",
    "    init_func = tf.truncated_normal_initializer(stddev=0.01)\n",
    "    net = slim.conv2d(x, 32, [5, 5], padding='SAME'\n",
    "                     , activation_fn       = lrelu\n",
    "                     , weights_initializer = init_func\n",
    "                     , normalizer_fn       = slim.batch_norm\n",
    "                     , normalizer_params   = batch_norm_params\n",
    "                     , scope='conv1')\n",
    "    net = slim.max_pool2d(net, [2, 2], scope='pool1')\n",
    "    net = slim.conv2d(x, 64, [5, 5], padding='SAME'\n",
    "                     , activation_fn       = lrelu\n",
    "                     , weights_initializer = init_func\n",
    "                     , normalizer_fn       = slim.batch_norm\n",
    "                     , normalizer_params   = batch_norm_params\n",
    "                     , scope='conv2')\n",
    "    net = slim.max_pool2d(net, [2, 2], scope='pool2')\n",
    "    net = slim.flatten(net, scope='flatten3')\n",
    "    net = slim.fully_connected(net, 1024\n",
    "                    , activation_fn       = lrelu\n",
    "                    , weights_initializer = init_func\n",
    "                    , normalizer_fn       = slim.batch_norm\n",
    "                    , normalizer_params   = batch_norm_params\n",
    "                    , scope='fc4')\n",
    "    net = slim.dropout(net, keep_prob=0.7, is_training=is_training, scope='dr')  \n",
    "    out = slim.fully_connected(net, n_classes\n",
    "                               , activation_fn=None, normalizer_fn=None, scope='fco')\n",
    "    return out\n",
    "print (\"NETWORK READY\")"
   ]
  },
  {
   "cell_type": "markdown",
   "metadata": {},
   "source": [
    "## 定义图结构"
   ]
  },
  {
   "cell_type": "code",
   "execution_count": 4,
   "metadata": {},
   "outputs": [
    {
     "name": "stdout",
     "output_type": "stream",
     "text": [
      "FUNCTIONS READY\n"
     ]
    }
   ],
   "source": [
    "# PREDICTION\n",
    "pred = CNN(x, is_training)\n",
    "\n",
    "# LOSS AND OPTIMIZER\n",
    "cost = tf.reduce_mean(tf.nn.softmax_cross_entropy_with_logits(\n",
    "        labels=y, logits=pred))\n",
    "optm = tf.train.AdamOptimizer(learning_rate=0.001).minimize(cost) \n",
    "corr = tf.equal(tf.argmax(pred, 1), tf.argmax(y, 1))    \n",
    "accr = tf.reduce_mean(tf.cast(corr, \"float\"))\n",
    "\n",
    "# INITIALIZER\n",
    "init = tf.global_variables_initializer()\n",
    "sess = tf.Session()\n",
    "sess.run(init)\n",
    "print (\"FUNCTIONS READY\")"
   ]
  },
  {
   "cell_type": "markdown",
   "metadata": {},
   "source": [
    "## 检查变量"
   ]
  },
  {
   "cell_type": "code",
   "execution_count": 5,
   "metadata": {},
   "outputs": [
    {
     "name": "stdout",
     "output_type": "stream",
     "text": [
      "=================== TRAINABLE VARIABLES ===================\n",
      "[0/8] [conv1/weights:0] / SAHPE IS (5, 5, 1, 32)\n",
      "[1/8] [conv1/BatchNorm/beta:0] / SAHPE IS (32,)\n",
      "[2/8] [conv2/weights:0] / SAHPE IS (5, 5, 1, 64)\n",
      "[3/8] [conv2/BatchNorm/beta:0] / SAHPE IS (64,)\n",
      "[4/8] [fc4/weights:0] / SAHPE IS (12544, 1024)\n",
      "[5/8] [fc4/BatchNorm/beta:0] / SAHPE IS (1024,)\n",
      "[6/8] [fco/weights:0] / SAHPE IS (1024, 10)\n",
      "[7/8] [fco/biases:0] / SAHPE IS (10,)\n"
     ]
    }
   ],
   "source": [
    "print (\"=================== TRAINABLE VARIABLES ===================\")\n",
    "t_weights = tf.trainable_variables()\n",
    "var_names_list = [v.name for v in tf.trainable_variables()] \n",
    "for i in range(len(t_weights)):\n",
    "    wval = sess.run(t_weights[i])\n",
    "    print (\"[%d/%d] [%s] / SAHPE IS %s\"  \n",
    "           % (i, len(t_weights), var_names_list[i], wval.shape,))"
   ]
  },
  {
   "cell_type": "markdown",
   "metadata": {},
   "source": [
    "## 存储"
   ]
  },
  {
   "cell_type": "code",
   "execution_count": 6,
   "metadata": {},
   "outputs": [
    {
     "name": "stdout",
     "output_type": "stream",
     "text": [
      "SAVER READY\n"
     ]
    }
   ],
   "source": [
    "savedir = \"nets/cnn_mnist_modern/\"\n",
    "saver = tf.train.Saver(max_to_keep=100)\n",
    "save_step = 4\n",
    "if not os.path.exists(savedir):\n",
    "    os.makedirs(savedir)\n",
    "print (\"SAVER READY\")"
   ]
  },
  {
   "cell_type": "markdown",
   "metadata": {},
   "source": [
    "## 数据增加"
   ]
  },
  {
   "cell_type": "code",
   "execution_count": 7,
   "metadata": {
    "collapsed": true
   },
   "outputs": [],
   "source": [
    "def augment_img(xs):\n",
    "    out  = np.copy(xs)\n",
    "    xs_r = np.reshape(xs, [-1, 28, 28])\n",
    "    for i in range(xs_r.shape[0]):\n",
    "        xs_img = xs_r[i, :, :]\n",
    "        bg_value = 0\n",
    "        # ROTATE\n",
    "        angle = np.random.randint(-15, 15, 1).astype(float)\n",
    "        xs_img = ndimage.rotate(xs_img, angle, reshape=False, cval=bg_value)\n",
    "        # ZOOM\n",
    "        rg = 0.1\n",
    "        zoom_factor = np.random.uniform(1., 1.+rg)\n",
    "        h, w = xs_img.shape[:2]\n",
    "        zh   = int(np.round(zoom_factor * h))\n",
    "        zw   = int(np.round(zoom_factor * w))\n",
    "        top  = (zh - h) // 2\n",
    "        left = (zw - w) // 2\n",
    "        zoom_tuple = (zoom_factor,) * 2 + (1,) * (xs_img.ndim - 2)\n",
    "        temp = ndimage.zoom(xs_img[top:top+zh, left:left+zw], zoom_tuple)\n",
    "        trim_top  = ((temp.shape[0] - h) // 2)\n",
    "        trim_left = ((temp.shape[1] - w) // 2)\n",
    "        xs_img = temp[trim_top:trim_top+h, trim_left:trim_left+w]\n",
    "        # SHIFT\n",
    "        shift = np.random.randint(-3, 3, 2)\n",
    "        xs_img = ndimage.shift(xs_img, shift, cval=bg_value)\n",
    "        # RESHAPE\n",
    "        xs_v = np.reshape(xs_img, [1, -1])\n",
    "        out[i, :] = xs_v\n",
    "    return out"
   ]
  },
  {
   "cell_type": "markdown",
   "metadata": {},
   "source": [
    "## 测试增加"
   ]
  },
  {
   "cell_type": "code",
   "execution_count": null,
   "metadata": {
    "scrolled": false
   },
   "outputs": [
    {
     "name": "stderr",
     "output_type": "stream",
     "text": [
      "/home/xrong/.pyenv/versions/anaconda2-4.4.0/lib/python2.7/site-packages/scipy/ndimage/interpolation.py:600: UserWarning: From scipy 0.13.0, the output shape of zoom() is calculated with round() instead of int() - for these inputs the size of the returned array has changed.\n",
      "  \"the returned array has changed.\", UserWarning)\n"
     ]
    },
    {
     "data": {
      "image/png": "[encoded data removed]",
      "text/plain": [
       "<matplotlib.figure.Figure at 0x7fd7ec11e9d0>"
      ]
     },
     "metadata": {},
     "output_type": "display_data"
    },
    {
     "data": {
      "image/png": "[encoded data removed]",
      "text/plain": [
       "<matplotlib.figure.Figure at 0x7fd7ebde6f50>"
      ]
     },
     "metadata": {},
     "output_type": "display_data"
    },
    {
     "data": {
      "image/png": "[encoded data removed]",
      "text/plain": [
       "<matplotlib.figure.Figure at 0x7fd7f01c9790>"
      ]
     },
     "metadata": {},
     "output_type": "display_data"
    },
    {
     "data": {
      "image/png": "[encoded data removed]",
      "text/plain": [
       "<matplotlib.figure.Figure at 0x7fd7d816fad0>"
      ]
     },
     "metadata": {},
     "output_type": "display_data"
    }
   ],
   "source": [
    "naug = 2\n",
    "batch_xs = trainimg[:naug, :]\n",
    "xs2 = augment_img(batch_xs)\n",
    "for i in range(naug):\n",
    "    x1 = batch_xs[i, :].reshape([28, 28])\n",
    "    x2 = xs2[i, :].reshape([28, 28])\n",
    "    plt.matshow(x1, vmin=0, vmax=1, cmap=plt.cm.gray)\n",
    "    plt.title(\"ORIGINAL\")\n",
    "    plt.show()\n",
    "    plt.matshow(x2, vmin=0, vmax=1, cmap=plt.cm.gray)\n",
    "    plt.title(\"TRANSFORMED\")\n",
    "    plt.show()"
   ]
  },
  {
   "cell_type": "markdown",
   "metadata": {},
   "source": [
    "## 运行"
   ]
  },
  {
   "cell_type": "code",
   "execution_count": null,
   "metadata": {
    "scrolled": false
   },
   "outputs": [],
   "source": [
    "# PARAMETERS\n",
    "training_epochs = 100\n",
    "batch_size      = 50\n",
    "display_step    = 4\n",
    "val_acc         = 0\n",
    "val_acc_max     = 0\n",
    "# OPTIMIZE\n",
    "for epoch in range(training_epochs):\n",
    "    avg_cost = 0.\n",
    "    total_batch = int(mnist.train.num_examples/batch_size)\n",
    "    # ITERATION\n",
    "    for i in range(total_batch):\n",
    "        batch_xs, batch_ys = mnist.train.next_batch(batch_size)\n",
    "        # AUGMENT DATA\n",
    "        batch_xs = augment_img(batch_xs)\n",
    "        feeds = {x: batch_xs, y: batch_ys, is_training: True}\n",
    "        sess.run(optm, feed_dict=feeds)\n",
    "        avg_cost += sess.run(cost, feed_dict=feeds)\n",
    "    avg_cost = avg_cost / total_batch\n",
    "    # DISPLAY\n",
    "    if (epoch+1) % display_step == 0:\n",
    "        print (\"Epoch: %03d/%03d cost: %.9f\" % (epoch+1, training_epochs, avg_cost))\n",
    "        randidx = np.random.permutation(trainimg.shape[0])[:500]\n",
    "        feeds = {x: trainimg[randidx], y: trainlabel[randidx], is_training: False}\n",
    "        train_acc = sess.run(accr, feed_dict=feeds)\n",
    "        print (\" TRAIN ACCURACY: %.5f\" % (train_acc))\n",
    "        feeds = {x: valimg, y: vallabel, is_training: False}\n",
    "        val_acc = sess.run(accr, feed_dict=feeds)\n",
    "        print (\" VALIDATION ACCURACY: %.5f\" % (val_acc))\n",
    "    # SAVE\n",
    "    if (epoch+1) % save_step == 0:\n",
    "        savename = savedir + \"net-\" + str(epoch) + \".ckpt\"\n",
    "        saver.save(sess=sess, save_path=savename)\n",
    "        print (\" [%s] SAVED.\" % (savename))\n",
    "    # MAXIMUM VALIDATION ACCURACY\n",
    "    if val_acc > val_acc_max:\n",
    "        val_acc_max = val_acc\n",
    "        best_epoch = epoch\n",
    "        print (\"\\x1b[31m BEST EPOCH UPDATED!! [%d] \\x1b[0m\" % (best_epoch))\n",
    "print (\"OPTIMIZATION FINISHED\")"
   ]
  },
  {
   "cell_type": "markdown",
   "metadata": {},
   "source": [
    "## 计算测试的精确度"
   ]
  },
  {
   "cell_type": "code",
   "execution_count": null,
   "metadata": {
    "collapsed": true
   },
   "outputs": [],
   "source": [
    "best_epoch = 55\n",
    "restorename = savedir + \"net-\" + str(best_epoch) + \".ckpt\"\n",
    "print (\"LOADING [%s]\" % (restorename))\n",
    "saver.restore(sess, restorename)\n",
    "feeds = {x: testimg, y: testlabel, is_training: False}\n",
    "test_acc = sess.run(accr, feed_dict=feeds)\n",
    "print (\"TEST ACCURACY: %.5f\" % (test_acc))"
   ]
  }
 ],
 "metadata": {
  "kernelspec": {
   "display_name": "Python 2",
   "language": "python",
   "name": "python2"
  },
  "language_info": {
   "codemirror_mode": {
    "name": "ipython",
    "version": 2
   },
   "file_extension": ".py",
   "mimetype": "text/x-python",
   "name": "python",
   "nbconvert_exporter": "python",
   "pygments_lexer": "ipython2",
   "version": "2.7.13"
  }
 },
 "nbformat": 4,
 "nbformat_minor": 1
}
